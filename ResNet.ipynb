{
  "nbformat": 4,
  "nbformat_minor": 0,
  "metadata": {
    "kernelspec": {
      "display_name": "Python 3",
      "language": "python",
      "name": "python3"
    },
    "language_info": {
      "codemirror_mode": {
        "name": "ipython",
        "version": 3
      },
      "file_extension": ".py",
      "mimetype": "text/x-python",
      "name": "python",
      "nbconvert_exporter": "python",
      "pygments_lexer": "ipython3",
      "version": "3.6.5"
    },
    "colab": {
      "name": "ResNet.ipynb",
      "provenance": [],
      "collapsed_sections": []
    },
    "accelerator": "GPU",
    "widgets": {
      "application/vnd.jupyter.widget-state+json": {
        "addee3bc6fd3420fbfe19ebe34ab9526": {
          "model_module": "@jupyter-widgets/controls",
          "model_name": "HBoxModel",
          "model_module_version": "1.5.0",
          "state": {
            "_view_name": "HBoxView",
            "_dom_classes": [],
            "_model_name": "HBoxModel",
            "_view_module": "@jupyter-widgets/controls",
            "_model_module_version": "1.5.0",
            "_view_count": null,
            "_view_module_version": "1.5.0",
            "box_style": "",
            "layout": "IPY_MODEL_14a2e7faf8874038993daff1d36da081",
            "_model_module": "@jupyter-widgets/controls",
            "children": [
              "IPY_MODEL_47ea4b2526f24e6a9a6227ee0ff315b4",
              "IPY_MODEL_65cfc6c0f04743dea4a0ca4e62e31d58",
              "IPY_MODEL_8c5ac85fcb8f4fe09d73d6f95601873a"
            ]
          }
        },
        "14a2e7faf8874038993daff1d36da081": {
          "model_module": "@jupyter-widgets/base",
          "model_name": "LayoutModel",
          "model_module_version": "1.2.0",
          "state": {
            "_view_name": "LayoutView",
            "grid_template_rows": null,
            "right": null,
            "justify_content": null,
            "_view_module": "@jupyter-widgets/base",
            "overflow": null,
            "_model_module_version": "1.2.0",
            "_view_count": null,
            "flex_flow": null,
            "width": null,
            "min_width": null,
            "border": null,
            "align_items": null,
            "bottom": null,
            "_model_module": "@jupyter-widgets/base",
            "top": null,
            "grid_column": null,
            "overflow_y": null,
            "overflow_x": null,
            "grid_auto_flow": null,
            "grid_area": null,
            "grid_template_columns": null,
            "flex": null,
            "_model_name": "LayoutModel",
            "justify_items": null,
            "grid_row": null,
            "max_height": null,
            "align_content": null,
            "visibility": null,
            "align_self": null,
            "height": null,
            "min_height": null,
            "padding": null,
            "grid_auto_rows": null,
            "grid_gap": null,
            "max_width": null,
            "order": null,
            "_view_module_version": "1.2.0",
            "grid_template_areas": null,
            "object_position": null,
            "object_fit": null,
            "grid_auto_columns": null,
            "margin": null,
            "display": null,
            "left": null
          }
        },
        "47ea4b2526f24e6a9a6227ee0ff315b4": {
          "model_module": "@jupyter-widgets/controls",
          "model_name": "HTMLModel",
          "model_module_version": "1.5.0",
          "state": {
            "_view_name": "HTMLView",
            "style": "IPY_MODEL_3e522eb628f34c5ea859df8bdc9a03e5",
            "_dom_classes": [],
            "description": "",
            "_model_name": "HTMLModel",
            "placeholder": "​",
            "_view_module": "@jupyter-widgets/controls",
            "_model_module_version": "1.5.0",
            "value": "",
            "_view_count": null,
            "_view_module_version": "1.5.0",
            "description_tooltip": null,
            "_model_module": "@jupyter-widgets/controls",
            "layout": "IPY_MODEL_4a721d8da45d4d9e8b81f5537a4f2180"
          }
        },
        "65cfc6c0f04743dea4a0ca4e62e31d58": {
          "model_module": "@jupyter-widgets/controls",
          "model_name": "FloatProgressModel",
          "model_module_version": "1.5.0",
          "state": {
            "_view_name": "ProgressView",
            "style": "IPY_MODEL_4563b207bd8541b4b9f4613fd4a88e02",
            "_dom_classes": [],
            "description": "",
            "_model_name": "FloatProgressModel",
            "bar_style": "success",
            "max": 170498071,
            "_view_module": "@jupyter-widgets/controls",
            "_model_module_version": "1.5.0",
            "value": 170498071,
            "_view_count": null,
            "_view_module_version": "1.5.0",
            "orientation": "horizontal",
            "min": 0,
            "description_tooltip": null,
            "_model_module": "@jupyter-widgets/controls",
            "layout": "IPY_MODEL_d2be57734be54e29a78248d9981c7a56"
          }
        },
        "8c5ac85fcb8f4fe09d73d6f95601873a": {
          "model_module": "@jupyter-widgets/controls",
          "model_name": "HTMLModel",
          "model_module_version": "1.5.0",
          "state": {
            "_view_name": "HTMLView",
            "style": "IPY_MODEL_5e0f7c092f47475e88f3f214473c8edb",
            "_dom_classes": [],
            "description": "",
            "_model_name": "HTMLModel",
            "placeholder": "​",
            "_view_module": "@jupyter-widgets/controls",
            "_model_module_version": "1.5.0",
            "value": " 170499072/? [00:11&lt;00:00, 16636378.13it/s]",
            "_view_count": null,
            "_view_module_version": "1.5.0",
            "description_tooltip": null,
            "_model_module": "@jupyter-widgets/controls",
            "layout": "IPY_MODEL_72634fee07c747f2b1c6397c2e048766"
          }
        },
        "3e522eb628f34c5ea859df8bdc9a03e5": {
          "model_module": "@jupyter-widgets/controls",
          "model_name": "DescriptionStyleModel",
          "model_module_version": "1.5.0",
          "state": {
            "_view_name": "StyleView",
            "_model_name": "DescriptionStyleModel",
            "description_width": "",
            "_view_module": "@jupyter-widgets/base",
            "_model_module_version": "1.5.0",
            "_view_count": null,
            "_view_module_version": "1.2.0",
            "_model_module": "@jupyter-widgets/controls"
          }
        },
        "4a721d8da45d4d9e8b81f5537a4f2180": {
          "model_module": "@jupyter-widgets/base",
          "model_name": "LayoutModel",
          "model_module_version": "1.2.0",
          "state": {
            "_view_name": "LayoutView",
            "grid_template_rows": null,
            "right": null,
            "justify_content": null,
            "_view_module": "@jupyter-widgets/base",
            "overflow": null,
            "_model_module_version": "1.2.0",
            "_view_count": null,
            "flex_flow": null,
            "width": null,
            "min_width": null,
            "border": null,
            "align_items": null,
            "bottom": null,
            "_model_module": "@jupyter-widgets/base",
            "top": null,
            "grid_column": null,
            "overflow_y": null,
            "overflow_x": null,
            "grid_auto_flow": null,
            "grid_area": null,
            "grid_template_columns": null,
            "flex": null,
            "_model_name": "LayoutModel",
            "justify_items": null,
            "grid_row": null,
            "max_height": null,
            "align_content": null,
            "visibility": null,
            "align_self": null,
            "height": null,
            "min_height": null,
            "padding": null,
            "grid_auto_rows": null,
            "grid_gap": null,
            "max_width": null,
            "order": null,
            "_view_module_version": "1.2.0",
            "grid_template_areas": null,
            "object_position": null,
            "object_fit": null,
            "grid_auto_columns": null,
            "margin": null,
            "display": null,
            "left": null
          }
        },
        "4563b207bd8541b4b9f4613fd4a88e02": {
          "model_module": "@jupyter-widgets/controls",
          "model_name": "ProgressStyleModel",
          "model_module_version": "1.5.0",
          "state": {
            "_view_name": "StyleView",
            "_model_name": "ProgressStyleModel",
            "description_width": "",
            "_view_module": "@jupyter-widgets/base",
            "_model_module_version": "1.5.0",
            "_view_count": null,
            "_view_module_version": "1.2.0",
            "bar_color": null,
            "_model_module": "@jupyter-widgets/controls"
          }
        },
        "d2be57734be54e29a78248d9981c7a56": {
          "model_module": "@jupyter-widgets/base",
          "model_name": "LayoutModel",
          "model_module_version": "1.2.0",
          "state": {
            "_view_name": "LayoutView",
            "grid_template_rows": null,
            "right": null,
            "justify_content": null,
            "_view_module": "@jupyter-widgets/base",
            "overflow": null,
            "_model_module_version": "1.2.0",
            "_view_count": null,
            "flex_flow": null,
            "width": null,
            "min_width": null,
            "border": null,
            "align_items": null,
            "bottom": null,
            "_model_module": "@jupyter-widgets/base",
            "top": null,
            "grid_column": null,
            "overflow_y": null,
            "overflow_x": null,
            "grid_auto_flow": null,
            "grid_area": null,
            "grid_template_columns": null,
            "flex": null,
            "_model_name": "LayoutModel",
            "justify_items": null,
            "grid_row": null,
            "max_height": null,
            "align_content": null,
            "visibility": null,
            "align_self": null,
            "height": null,
            "min_height": null,
            "padding": null,
            "grid_auto_rows": null,
            "grid_gap": null,
            "max_width": null,
            "order": null,
            "_view_module_version": "1.2.0",
            "grid_template_areas": null,
            "object_position": null,
            "object_fit": null,
            "grid_auto_columns": null,
            "margin": null,
            "display": null,
            "left": null
          }
        },
        "5e0f7c092f47475e88f3f214473c8edb": {
          "model_module": "@jupyter-widgets/controls",
          "model_name": "DescriptionStyleModel",
          "model_module_version": "1.5.0",
          "state": {
            "_view_name": "StyleView",
            "_model_name": "DescriptionStyleModel",
            "description_width": "",
            "_view_module": "@jupyter-widgets/base",
            "_model_module_version": "1.5.0",
            "_view_count": null,
            "_view_module_version": "1.2.0",
            "_model_module": "@jupyter-widgets/controls"
          }
        },
        "72634fee07c747f2b1c6397c2e048766": {
          "model_module": "@jupyter-widgets/base",
          "model_name": "LayoutModel",
          "model_module_version": "1.2.0",
          "state": {
            "_view_name": "LayoutView",
            "grid_template_rows": null,
            "right": null,
            "justify_content": null,
            "_view_module": "@jupyter-widgets/base",
            "overflow": null,
            "_model_module_version": "1.2.0",
            "_view_count": null,
            "flex_flow": null,
            "width": null,
            "min_width": null,
            "border": null,
            "align_items": null,
            "bottom": null,
            "_model_module": "@jupyter-widgets/base",
            "top": null,
            "grid_column": null,
            "overflow_y": null,
            "overflow_x": null,
            "grid_auto_flow": null,
            "grid_area": null,
            "grid_template_columns": null,
            "flex": null,
            "_model_name": "LayoutModel",
            "justify_items": null,
            "grid_row": null,
            "max_height": null,
            "align_content": null,
            "visibility": null,
            "align_self": null,
            "height": null,
            "min_height": null,
            "padding": null,
            "grid_auto_rows": null,
            "grid_gap": null,
            "max_width": null,
            "order": null,
            "_view_module_version": "1.2.0",
            "grid_template_areas": null,
            "object_position": null,
            "object_fit": null,
            "grid_auto_columns": null,
            "margin": null,
            "display": null,
            "left": null
          }
        },
        "1dbbf2fb59bc44548aec022955d9450b": {
          "model_module": "@jupyter-widgets/controls",
          "model_name": "HBoxModel",
          "model_module_version": "1.5.0",
          "state": {
            "_view_name": "HBoxView",
            "_dom_classes": [],
            "_model_name": "HBoxModel",
            "_view_module": "@jupyter-widgets/controls",
            "_model_module_version": "1.5.0",
            "_view_count": null,
            "_view_module_version": "1.5.0",
            "box_style": "",
            "layout": "IPY_MODEL_e02018ff0ed449a5856915424a6ad3ec",
            "_model_module": "@jupyter-widgets/controls",
            "children": [
              "IPY_MODEL_7e0fa1a86f2e4d6d8ef8878cd69d937d",
              "IPY_MODEL_ebb7eb72f1d64d47a0b4d0323e07b88e",
              "IPY_MODEL_2a4faa2140c44859bc07b51f551eb28d"
            ]
          }
        },
        "e02018ff0ed449a5856915424a6ad3ec": {
          "model_module": "@jupyter-widgets/base",
          "model_name": "LayoutModel",
          "model_module_version": "1.2.0",
          "state": {
            "_view_name": "LayoutView",
            "grid_template_rows": null,
            "right": null,
            "justify_content": null,
            "_view_module": "@jupyter-widgets/base",
            "overflow": null,
            "_model_module_version": "1.2.0",
            "_view_count": null,
            "flex_flow": null,
            "width": null,
            "min_width": null,
            "border": null,
            "align_items": null,
            "bottom": null,
            "_model_module": "@jupyter-widgets/base",
            "top": null,
            "grid_column": null,
            "overflow_y": null,
            "overflow_x": null,
            "grid_auto_flow": null,
            "grid_area": null,
            "grid_template_columns": null,
            "flex": null,
            "_model_name": "LayoutModel",
            "justify_items": null,
            "grid_row": null,
            "max_height": null,
            "align_content": null,
            "visibility": null,
            "align_self": null,
            "height": null,
            "min_height": null,
            "padding": null,
            "grid_auto_rows": null,
            "grid_gap": null,
            "max_width": null,
            "order": null,
            "_view_module_version": "1.2.0",
            "grid_template_areas": null,
            "object_position": null,
            "object_fit": null,
            "grid_auto_columns": null,
            "margin": null,
            "display": null,
            "left": null
          }
        },
        "7e0fa1a86f2e4d6d8ef8878cd69d937d": {
          "model_module": "@jupyter-widgets/controls",
          "model_name": "HTMLModel",
          "model_module_version": "1.5.0",
          "state": {
            "_view_name": "HTMLView",
            "style": "IPY_MODEL_b758d28b4b9048d79a586ae3dafcb3fb",
            "_dom_classes": [],
            "description": "",
            "_model_name": "HTMLModel",
            "placeholder": "​",
            "_view_module": "@jupyter-widgets/controls",
            "_model_module_version": "1.5.0",
            "value": "100%",
            "_view_count": null,
            "_view_module_version": "1.5.0",
            "description_tooltip": null,
            "_model_module": "@jupyter-widgets/controls",
            "layout": "IPY_MODEL_1c039daed9494a3d8b59dc940f9a9f17"
          }
        },
        "ebb7eb72f1d64d47a0b4d0323e07b88e": {
          "model_module": "@jupyter-widgets/controls",
          "model_name": "FloatProgressModel",
          "model_module_version": "1.5.0",
          "state": {
            "_view_name": "ProgressView",
            "style": "IPY_MODEL_05b0be685a824c43b12942fb499efa06",
            "_dom_classes": [],
            "description": "",
            "_model_name": "FloatProgressModel",
            "bar_style": "success",
            "max": 46830571,
            "_view_module": "@jupyter-widgets/controls",
            "_model_module_version": "1.5.0",
            "value": 46830571,
            "_view_count": null,
            "_view_module_version": "1.5.0",
            "orientation": "horizontal",
            "min": 0,
            "description_tooltip": null,
            "_model_module": "@jupyter-widgets/controls",
            "layout": "IPY_MODEL_d6ad2cff73094721909558166412e4ac"
          }
        },
        "2a4faa2140c44859bc07b51f551eb28d": {
          "model_module": "@jupyter-widgets/controls",
          "model_name": "HTMLModel",
          "model_module_version": "1.5.0",
          "state": {
            "_view_name": "HTMLView",
            "style": "IPY_MODEL_dd3cd3f761064a0ab0153c5240b742f0",
            "_dom_classes": [],
            "description": "",
            "_model_name": "HTMLModel",
            "placeholder": "​",
            "_view_module": "@jupyter-widgets/controls",
            "_model_module_version": "1.5.0",
            "value": " 44.7M/44.7M [00:00&lt;00:00, 90.7MB/s]",
            "_view_count": null,
            "_view_module_version": "1.5.0",
            "description_tooltip": null,
            "_model_module": "@jupyter-widgets/controls",
            "layout": "IPY_MODEL_a2394d3d4e41448e8567d987d7ea0f71"
          }
        },
        "b758d28b4b9048d79a586ae3dafcb3fb": {
          "model_module": "@jupyter-widgets/controls",
          "model_name": "DescriptionStyleModel",
          "model_module_version": "1.5.0",
          "state": {
            "_view_name": "StyleView",
            "_model_name": "DescriptionStyleModel",
            "description_width": "",
            "_view_module": "@jupyter-widgets/base",
            "_model_module_version": "1.5.0",
            "_view_count": null,
            "_view_module_version": "1.2.0",
            "_model_module": "@jupyter-widgets/controls"
          }
        },
        "1c039daed9494a3d8b59dc940f9a9f17": {
          "model_module": "@jupyter-widgets/base",
          "model_name": "LayoutModel",
          "model_module_version": "1.2.0",
          "state": {
            "_view_name": "LayoutView",
            "grid_template_rows": null,
            "right": null,
            "justify_content": null,
            "_view_module": "@jupyter-widgets/base",
            "overflow": null,
            "_model_module_version": "1.2.0",
            "_view_count": null,
            "flex_flow": null,
            "width": null,
            "min_width": null,
            "border": null,
            "align_items": null,
            "bottom": null,
            "_model_module": "@jupyter-widgets/base",
            "top": null,
            "grid_column": null,
            "overflow_y": null,
            "overflow_x": null,
            "grid_auto_flow": null,
            "grid_area": null,
            "grid_template_columns": null,
            "flex": null,
            "_model_name": "LayoutModel",
            "justify_items": null,
            "grid_row": null,
            "max_height": null,
            "align_content": null,
            "visibility": null,
            "align_self": null,
            "height": null,
            "min_height": null,
            "padding": null,
            "grid_auto_rows": null,
            "grid_gap": null,
            "max_width": null,
            "order": null,
            "_view_module_version": "1.2.0",
            "grid_template_areas": null,
            "object_position": null,
            "object_fit": null,
            "grid_auto_columns": null,
            "margin": null,
            "display": null,
            "left": null
          }
        },
        "05b0be685a824c43b12942fb499efa06": {
          "model_module": "@jupyter-widgets/controls",
          "model_name": "ProgressStyleModel",
          "model_module_version": "1.5.0",
          "state": {
            "_view_name": "StyleView",
            "_model_name": "ProgressStyleModel",
            "description_width": "",
            "_view_module": "@jupyter-widgets/base",
            "_model_module_version": "1.5.0",
            "_view_count": null,
            "_view_module_version": "1.2.0",
            "bar_color": null,
            "_model_module": "@jupyter-widgets/controls"
          }
        },
        "d6ad2cff73094721909558166412e4ac": {
          "model_module": "@jupyter-widgets/base",
          "model_name": "LayoutModel",
          "model_module_version": "1.2.0",
          "state": {
            "_view_name": "LayoutView",
            "grid_template_rows": null,
            "right": null,
            "justify_content": null,
            "_view_module": "@jupyter-widgets/base",
            "overflow": null,
            "_model_module_version": "1.2.0",
            "_view_count": null,
            "flex_flow": null,
            "width": null,
            "min_width": null,
            "border": null,
            "align_items": null,
            "bottom": null,
            "_model_module": "@jupyter-widgets/base",
            "top": null,
            "grid_column": null,
            "overflow_y": null,
            "overflow_x": null,
            "grid_auto_flow": null,
            "grid_area": null,
            "grid_template_columns": null,
            "flex": null,
            "_model_name": "LayoutModel",
            "justify_items": null,
            "grid_row": null,
            "max_height": null,
            "align_content": null,
            "visibility": null,
            "align_self": null,
            "height": null,
            "min_height": null,
            "padding": null,
            "grid_auto_rows": null,
            "grid_gap": null,
            "max_width": null,
            "order": null,
            "_view_module_version": "1.2.0",
            "grid_template_areas": null,
            "object_position": null,
            "object_fit": null,
            "grid_auto_columns": null,
            "margin": null,
            "display": null,
            "left": null
          }
        },
        "dd3cd3f761064a0ab0153c5240b742f0": {
          "model_module": "@jupyter-widgets/controls",
          "model_name": "DescriptionStyleModel",
          "model_module_version": "1.5.0",
          "state": {
            "_view_name": "StyleView",
            "_model_name": "DescriptionStyleModel",
            "description_width": "",
            "_view_module": "@jupyter-widgets/base",
            "_model_module_version": "1.5.0",
            "_view_count": null,
            "_view_module_version": "1.2.0",
            "_model_module": "@jupyter-widgets/controls"
          }
        },
        "a2394d3d4e41448e8567d987d7ea0f71": {
          "model_module": "@jupyter-widgets/base",
          "model_name": "LayoutModel",
          "model_module_version": "1.2.0",
          "state": {
            "_view_name": "LayoutView",
            "grid_template_rows": null,
            "right": null,
            "justify_content": null,
            "_view_module": "@jupyter-widgets/base",
            "overflow": null,
            "_model_module_version": "1.2.0",
            "_view_count": null,
            "flex_flow": null,
            "width": null,
            "min_width": null,
            "border": null,
            "align_items": null,
            "bottom": null,
            "_model_module": "@jupyter-widgets/base",
            "top": null,
            "grid_column": null,
            "overflow_y": null,
            "overflow_x": null,
            "grid_auto_flow": null,
            "grid_area": null,
            "grid_template_columns": null,
            "flex": null,
            "_model_name": "LayoutModel",
            "justify_items": null,
            "grid_row": null,
            "max_height": null,
            "align_content": null,
            "visibility": null,
            "align_self": null,
            "height": null,
            "min_height": null,
            "padding": null,
            "grid_auto_rows": null,
            "grid_gap": null,
            "max_width": null,
            "order": null,
            "_view_module_version": "1.2.0",
            "grid_template_areas": null,
            "object_position": null,
            "object_fit": null,
            "grid_auto_columns": null,
            "margin": null,
            "display": null,
            "left": null
          }
        },
        "a3080639a1eb4a88b1f74d515b24c053": {
          "model_module": "@jupyter-widgets/controls",
          "model_name": "HBoxModel",
          "model_module_version": "1.5.0",
          "state": {
            "_view_name": "HBoxView",
            "_dom_classes": [],
            "_model_name": "HBoxModel",
            "_view_module": "@jupyter-widgets/controls",
            "_model_module_version": "1.5.0",
            "_view_count": null,
            "_view_module_version": "1.5.0",
            "box_style": "",
            "layout": "IPY_MODEL_5ae7ee5e6624402298a18c0d2e28baba",
            "_model_module": "@jupyter-widgets/controls",
            "children": [
              "IPY_MODEL_80622397e409427888066626c4e8a7bc",
              "IPY_MODEL_0b8f0f51fe8f4bd59b78313a0bd14131",
              "IPY_MODEL_cc435ccdeb9446dba3094dafa4fa4a8e"
            ]
          }
        },
        "5ae7ee5e6624402298a18c0d2e28baba": {
          "model_module": "@jupyter-widgets/base",
          "model_name": "LayoutModel",
          "model_module_version": "1.2.0",
          "state": {
            "_view_name": "LayoutView",
            "grid_template_rows": null,
            "right": null,
            "justify_content": null,
            "_view_module": "@jupyter-widgets/base",
            "overflow": null,
            "_model_module_version": "1.2.0",
            "_view_count": null,
            "flex_flow": null,
            "width": null,
            "min_width": null,
            "border": null,
            "align_items": null,
            "bottom": null,
            "_model_module": "@jupyter-widgets/base",
            "top": null,
            "grid_column": null,
            "overflow_y": null,
            "overflow_x": null,
            "grid_auto_flow": null,
            "grid_area": null,
            "grid_template_columns": null,
            "flex": null,
            "_model_name": "LayoutModel",
            "justify_items": null,
            "grid_row": null,
            "max_height": null,
            "align_content": null,
            "visibility": null,
            "align_self": null,
            "height": null,
            "min_height": null,
            "padding": null,
            "grid_auto_rows": null,
            "grid_gap": null,
            "max_width": null,
            "order": null,
            "_view_module_version": "1.2.0",
            "grid_template_areas": null,
            "object_position": null,
            "object_fit": null,
            "grid_auto_columns": null,
            "margin": null,
            "display": null,
            "left": null
          }
        },
        "80622397e409427888066626c4e8a7bc": {
          "model_module": "@jupyter-widgets/controls",
          "model_name": "HTMLModel",
          "model_module_version": "1.5.0",
          "state": {
            "_view_name": "HTMLView",
            "style": "IPY_MODEL_94c537c187404eefb07a58a5e3addb36",
            "_dom_classes": [],
            "description": "",
            "_model_name": "HTMLModel",
            "placeholder": "​",
            "_view_module": "@jupyter-widgets/controls",
            "_model_module_version": "1.5.0",
            "value": "100%",
            "_view_count": null,
            "_view_module_version": "1.5.0",
            "description_tooltip": null,
            "_model_module": "@jupyter-widgets/controls",
            "layout": "IPY_MODEL_2c9b93eb8c9e46de8dbeff596b13610c"
          }
        },
        "0b8f0f51fe8f4bd59b78313a0bd14131": {
          "model_module": "@jupyter-widgets/controls",
          "model_name": "FloatProgressModel",
          "model_module_version": "1.5.0",
          "state": {
            "_view_name": "ProgressView",
            "style": "IPY_MODEL_3d185c5ac9874ee9b21d923541eba448",
            "_dom_classes": [],
            "description": "",
            "_model_name": "FloatProgressModel",
            "bar_style": "success",
            "max": 1563,
            "_view_module": "@jupyter-widgets/controls",
            "_model_module_version": "1.5.0",
            "value": 1563,
            "_view_count": null,
            "_view_module_version": "1.5.0",
            "orientation": "horizontal",
            "min": 0,
            "description_tooltip": null,
            "_model_module": "@jupyter-widgets/controls",
            "layout": "IPY_MODEL_8652edf549a04e91b253316848a533b3"
          }
        },
        "cc435ccdeb9446dba3094dafa4fa4a8e": {
          "model_module": "@jupyter-widgets/controls",
          "model_name": "HTMLModel",
          "model_module_version": "1.5.0",
          "state": {
            "_view_name": "HTMLView",
            "style": "IPY_MODEL_2fc3a0c2d1c2494c96c2c49dbf8b66c8",
            "_dom_classes": [],
            "description": "",
            "_model_name": "HTMLModel",
            "placeholder": "​",
            "_view_module": "@jupyter-widgets/controls",
            "_model_module_version": "1.5.0",
            "value": " 1563/1563 [17:57&lt;00:00,  1.68it/s]",
            "_view_count": null,
            "_view_module_version": "1.5.0",
            "description_tooltip": null,
            "_model_module": "@jupyter-widgets/controls",
            "layout": "IPY_MODEL_a57566a00d624f619cbdaaad7cbbab3f"
          }
        },
        "94c537c187404eefb07a58a5e3addb36": {
          "model_module": "@jupyter-widgets/controls",
          "model_name": "DescriptionStyleModel",
          "model_module_version": "1.5.0",
          "state": {
            "_view_name": "StyleView",
            "_model_name": "DescriptionStyleModel",
            "description_width": "",
            "_view_module": "@jupyter-widgets/base",
            "_model_module_version": "1.5.0",
            "_view_count": null,
            "_view_module_version": "1.2.0",
            "_model_module": "@jupyter-widgets/controls"
          }
        },
        "2c9b93eb8c9e46de8dbeff596b13610c": {
          "model_module": "@jupyter-widgets/base",
          "model_name": "LayoutModel",
          "model_module_version": "1.2.0",
          "state": {
            "_view_name": "LayoutView",
            "grid_template_rows": null,
            "right": null,
            "justify_content": null,
            "_view_module": "@jupyter-widgets/base",
            "overflow": null,
            "_model_module_version": "1.2.0",
            "_view_count": null,
            "flex_flow": null,
            "width": null,
            "min_width": null,
            "border": null,
            "align_items": null,
            "bottom": null,
            "_model_module": "@jupyter-widgets/base",
            "top": null,
            "grid_column": null,
            "overflow_y": null,
            "overflow_x": null,
            "grid_auto_flow": null,
            "grid_area": null,
            "grid_template_columns": null,
            "flex": null,
            "_model_name": "LayoutModel",
            "justify_items": null,
            "grid_row": null,
            "max_height": null,
            "align_content": null,
            "visibility": null,
            "align_self": null,
            "height": null,
            "min_height": null,
            "padding": null,
            "grid_auto_rows": null,
            "grid_gap": null,
            "max_width": null,
            "order": null,
            "_view_module_version": "1.2.0",
            "grid_template_areas": null,
            "object_position": null,
            "object_fit": null,
            "grid_auto_columns": null,
            "margin": null,
            "display": null,
            "left": null
          }
        },
        "3d185c5ac9874ee9b21d923541eba448": {
          "model_module": "@jupyter-widgets/controls",
          "model_name": "ProgressStyleModel",
          "model_module_version": "1.5.0",
          "state": {
            "_view_name": "StyleView",
            "_model_name": "ProgressStyleModel",
            "description_width": "",
            "_view_module": "@jupyter-widgets/base",
            "_model_module_version": "1.5.0",
            "_view_count": null,
            "_view_module_version": "1.2.0",
            "bar_color": null,
            "_model_module": "@jupyter-widgets/controls"
          }
        },
        "8652edf549a04e91b253316848a533b3": {
          "model_module": "@jupyter-widgets/base",
          "model_name": "LayoutModel",
          "model_module_version": "1.2.0",
          "state": {
            "_view_name": "LayoutView",
            "grid_template_rows": null,
            "right": null,
            "justify_content": null,
            "_view_module": "@jupyter-widgets/base",
            "overflow": null,
            "_model_module_version": "1.2.0",
            "_view_count": null,
            "flex_flow": null,
            "width": null,
            "min_width": null,
            "border": null,
            "align_items": null,
            "bottom": null,
            "_model_module": "@jupyter-widgets/base",
            "top": null,
            "grid_column": null,
            "overflow_y": null,
            "overflow_x": null,
            "grid_auto_flow": null,
            "grid_area": null,
            "grid_template_columns": null,
            "flex": null,
            "_model_name": "LayoutModel",
            "justify_items": null,
            "grid_row": null,
            "max_height": null,
            "align_content": null,
            "visibility": null,
            "align_self": null,
            "height": null,
            "min_height": null,
            "padding": null,
            "grid_auto_rows": null,
            "grid_gap": null,
            "max_width": null,
            "order": null,
            "_view_module_version": "1.2.0",
            "grid_template_areas": null,
            "object_position": null,
            "object_fit": null,
            "grid_auto_columns": null,
            "margin": null,
            "display": null,
            "left": null
          }
        },
        "2fc3a0c2d1c2494c96c2c49dbf8b66c8": {
          "model_module": "@jupyter-widgets/controls",
          "model_name": "DescriptionStyleModel",
          "model_module_version": "1.5.0",
          "state": {
            "_view_name": "StyleView",
            "_model_name": "DescriptionStyleModel",
            "description_width": "",
            "_view_module": "@jupyter-widgets/base",
            "_model_module_version": "1.5.0",
            "_view_count": null,
            "_view_module_version": "1.2.0",
            "_model_module": "@jupyter-widgets/controls"
          }
        },
        "a57566a00d624f619cbdaaad7cbbab3f": {
          "model_module": "@jupyter-widgets/base",
          "model_name": "LayoutModel",
          "model_module_version": "1.2.0",
          "state": {
            "_view_name": "LayoutView",
            "grid_template_rows": null,
            "right": null,
            "justify_content": null,
            "_view_module": "@jupyter-widgets/base",
            "overflow": null,
            "_model_module_version": "1.2.0",
            "_view_count": null,
            "flex_flow": null,
            "width": null,
            "min_width": null,
            "border": null,
            "align_items": null,
            "bottom": null,
            "_model_module": "@jupyter-widgets/base",
            "top": null,
            "grid_column": null,
            "overflow_y": null,
            "overflow_x": null,
            "grid_auto_flow": null,
            "grid_area": null,
            "grid_template_columns": null,
            "flex": null,
            "_model_name": "LayoutModel",
            "justify_items": null,
            "grid_row": null,
            "max_height": null,
            "align_content": null,
            "visibility": null,
            "align_self": null,
            "height": null,
            "min_height": null,
            "padding": null,
            "grid_auto_rows": null,
            "grid_gap": null,
            "max_width": null,
            "order": null,
            "_view_module_version": "1.2.0",
            "grid_template_areas": null,
            "object_position": null,
            "object_fit": null,
            "grid_auto_columns": null,
            "margin": null,
            "display": null,
            "left": null
          }
        }
      }
    }
  },
  "cells": [
    {
      "cell_type": "code",
      "metadata": {
        "colab": {
          "base_uri": "https://localhost:8080/"
        },
        "id": "uCWfLVSB2csh",
        "outputId": "d9d334e8-754c-4eb3-ebb3-1d729eb6648d"
      },
      "source": [
        "%matplotlib inline\n",
        "import copy\n",
        "import time\n",
        "import tqdm\n",
        "import torch\n",
        "import torchvision\n",
        "import numpy as np\n",
        "import torch.nn as nn\n",
        "import torch.optim as optim\n",
        "import torch.nn.functional as F\n",
        "import matplotlib.pyplot as plt\n",
        "from torchvision import transforms,datasets, models\n",
        "\n"
      ],
      "execution_count": 1,
      "outputs": [
        {
          "output_type": "stream",
          "name": "stdout",
          "text": [
            "1.9.0+cu102\n"
          ]
        }
      ]
    },
    {
      "cell_type": "markdown",
      "metadata": {
        "id": "EGRixCDJ2csk"
      },
      "source": [
        "## Load Data:"
      ]
    },
    {
      "cell_type": "code",
      "metadata": {
        "colab": {
          "base_uri": "https://localhost:8080/",
          "height": 153,
          "referenced_widgets": [
            "addee3bc6fd3420fbfe19ebe34ab9526",
            "14a2e7faf8874038993daff1d36da081",
            "47ea4b2526f24e6a9a6227ee0ff315b4",
            "65cfc6c0f04743dea4a0ca4e62e31d58",
            "8c5ac85fcb8f4fe09d73d6f95601873a",
            "3e522eb628f34c5ea859df8bdc9a03e5",
            "4a721d8da45d4d9e8b81f5537a4f2180",
            "4563b207bd8541b4b9f4613fd4a88e02",
            "d2be57734be54e29a78248d9981c7a56",
            "5e0f7c092f47475e88f3f214473c8edb",
            "72634fee07c747f2b1c6397c2e048766"
          ]
        },
        "id": "YLIyxCHL2csk",
        "outputId": "2cf4bfc0-b293-4dec-ddb1-61e275908776"
      },
      "source": [
        "apply_transform = transforms.Compose([transforms.Resize(224),transforms.ToTensor()])\n",
        "BatchSize = 32\n",
        "\n",
        "trainset = datasets.CIFAR10(root='./CIFAR10', train=True, download=True, transform=apply_transform)\n",
        "trainLoader = torch.utils.data.DataLoader(trainset, batch_size=BatchSize,\n",
        "                                          shuffle=True, num_workers=4) # Creating dataloader\n",
        "\n",
        "testset = datasets.CIFAR10(root='./CIFAR10', train=False, download=True, transform=apply_transform)\n",
        "testLoader = torch.utils.data.DataLoader(testset, batch_size=BatchSize,\n",
        "                                         shuffle=False, num_workers=4) # Creating dataloader"
      ],
      "execution_count": 2,
      "outputs": [
        {
          "output_type": "stream",
          "name": "stdout",
          "text": [
            "Downloading https://www.cs.toronto.edu/~kriz/cifar-10-python.tar.gz to ./CIFAR10/cifar-10-python.tar.gz\n"
          ]
        },
        {
          "output_type": "display_data",
          "data": {
            "application/vnd.jupyter.widget-view+json": {
              "model_id": "addee3bc6fd3420fbfe19ebe34ab9526",
              "version_minor": 0,
              "version_major": 2
            },
            "text/plain": [
              "  0%|          | 0/170498071 [00:00<?, ?it/s]"
            ]
          },
          "metadata": {}
        },
        {
          "output_type": "stream",
          "name": "stdout",
          "text": [
            "Extracting ./CIFAR10/cifar-10-python.tar.gz to ./CIFAR10\n"
          ]
        },
        {
          "output_type": "stream",
          "name": "stderr",
          "text": [
            "/usr/local/lib/python3.7/dist-packages/torch/utils/data/dataloader.py:481: UserWarning: This DataLoader will create 4 worker processes in total. Our suggested max number of worker in current system is 2, which is smaller than what this DataLoader is going to create. Please be aware that excessive worker creation might get DataLoader running slow or even freeze, lower the worker number to avoid potential slowness/freeze if necessary.\n",
            "  cpuset_checked))\n"
          ]
        },
        {
          "output_type": "stream",
          "name": "stdout",
          "text": [
            "Files already downloaded and verified\n"
          ]
        }
      ]
    },
    {
      "cell_type": "code",
      "metadata": {
        "colab": {
          "base_uri": "https://localhost:8080/"
        },
        "id": "f1Ctp2Y_2csk",
        "outputId": "e93f6e56-498a-4411-f381-1f08335fe27d"
      },
      "source": [
        "# Size of train and test datasets\n",
        "print('No. of samples in train set: '+str(len(trainLoader.dataset)))\n",
        "print('No. of samples in test set: '+str(len(testLoader.dataset)))"
      ],
      "execution_count": 3,
      "outputs": [
        {
          "output_type": "stream",
          "name": "stdout",
          "text": [
            "No. of samples in train set: 50000\n",
            "No. of samples in test set: 10000\n"
          ]
        }
      ]
    },
    {
      "cell_type": "markdown",
      "metadata": {
        "id": "MOqXMs_K2csl"
      },
      "source": [
        "## Define network architecture"
      ]
    },
    {
      "cell_type": "code",
      "metadata": {
        "scrolled": true,
        "colab": {
          "base_uri": "https://localhost:8080/",
          "height": 1000,
          "referenced_widgets": [
            "1dbbf2fb59bc44548aec022955d9450b",
            "e02018ff0ed449a5856915424a6ad3ec",
            "7e0fa1a86f2e4d6d8ef8878cd69d937d",
            "ebb7eb72f1d64d47a0b4d0323e07b88e",
            "2a4faa2140c44859bc07b51f551eb28d",
            "b758d28b4b9048d79a586ae3dafcb3fb",
            "1c039daed9494a3d8b59dc940f9a9f17",
            "05b0be685a824c43b12942fb499efa06",
            "d6ad2cff73094721909558166412e4ac",
            "dd3cd3f761064a0ab0153c5240b742f0",
            "a2394d3d4e41448e8567d987d7ea0f71"
          ]
        },
        "id": "HdkPNEZ72csl",
        "outputId": "b29ca3d1-2450-4049-bf38-93b3f727b44a"
      },
      "source": [
        "net1 = models.resnet18() # Training from scratch\n",
        "net2 = models.resnet18(pretrained=True) # End-to-end fine-tuning\n",
        "net3 = models.resnet18(pretrained=True) # Training only the last layer\n",
        "print(net1)"
      ],
      "execution_count": 4,
      "outputs": [
        {
          "output_type": "stream",
          "name": "stderr",
          "text": [
            "Downloading: \"https://download.pytorch.org/models/resnet18-f37072fd.pth\" to /root/.cache/torch/hub/checkpoints/resnet18-f37072fd.pth\n"
          ]
        },
        {
          "output_type": "display_data",
          "data": {
            "application/vnd.jupyter.widget-view+json": {
              "model_id": "1dbbf2fb59bc44548aec022955d9450b",
              "version_minor": 0,
              "version_major": 2
            },
            "text/plain": [
              "  0%|          | 0.00/44.7M [00:00<?, ?B/s]"
            ]
          },
          "metadata": {}
        },
        {
          "output_type": "stream",
          "name": "stdout",
          "text": [
            "ResNet(\n",
            "  (conv1): Conv2d(3, 64, kernel_size=(7, 7), stride=(2, 2), padding=(3, 3), bias=False)\n",
            "  (bn1): BatchNorm2d(64, eps=1e-05, momentum=0.1, affine=True, track_running_stats=True)\n",
            "  (relu): ReLU(inplace=True)\n",
            "  (maxpool): MaxPool2d(kernel_size=3, stride=2, padding=1, dilation=1, ceil_mode=False)\n",
            "  (layer1): Sequential(\n",
            "    (0): BasicBlock(\n",
            "      (conv1): Conv2d(64, 64, kernel_size=(3, 3), stride=(1, 1), padding=(1, 1), bias=False)\n",
            "      (bn1): BatchNorm2d(64, eps=1e-05, momentum=0.1, affine=True, track_running_stats=True)\n",
            "      (relu): ReLU(inplace=True)\n",
            "      (conv2): Conv2d(64, 64, kernel_size=(3, 3), stride=(1, 1), padding=(1, 1), bias=False)\n",
            "      (bn2): BatchNorm2d(64, eps=1e-05, momentum=0.1, affine=True, track_running_stats=True)\n",
            "    )\n",
            "    (1): BasicBlock(\n",
            "      (conv1): Conv2d(64, 64, kernel_size=(3, 3), stride=(1, 1), padding=(1, 1), bias=False)\n",
            "      (bn1): BatchNorm2d(64, eps=1e-05, momentum=0.1, affine=True, track_running_stats=True)\n",
            "      (relu): ReLU(inplace=True)\n",
            "      (conv2): Conv2d(64, 64, kernel_size=(3, 3), stride=(1, 1), padding=(1, 1), bias=False)\n",
            "      (bn2): BatchNorm2d(64, eps=1e-05, momentum=0.1, affine=True, track_running_stats=True)\n",
            "    )\n",
            "  )\n",
            "  (layer2): Sequential(\n",
            "    (0): BasicBlock(\n",
            "      (conv1): Conv2d(64, 128, kernel_size=(3, 3), stride=(2, 2), padding=(1, 1), bias=False)\n",
            "      (bn1): BatchNorm2d(128, eps=1e-05, momentum=0.1, affine=True, track_running_stats=True)\n",
            "      (relu): ReLU(inplace=True)\n",
            "      (conv2): Conv2d(128, 128, kernel_size=(3, 3), stride=(1, 1), padding=(1, 1), bias=False)\n",
            "      (bn2): BatchNorm2d(128, eps=1e-05, momentum=0.1, affine=True, track_running_stats=True)\n",
            "      (downsample): Sequential(\n",
            "        (0): Conv2d(64, 128, kernel_size=(1, 1), stride=(2, 2), bias=False)\n",
            "        (1): BatchNorm2d(128, eps=1e-05, momentum=0.1, affine=True, track_running_stats=True)\n",
            "      )\n",
            "    )\n",
            "    (1): BasicBlock(\n",
            "      (conv1): Conv2d(128, 128, kernel_size=(3, 3), stride=(1, 1), padding=(1, 1), bias=False)\n",
            "      (bn1): BatchNorm2d(128, eps=1e-05, momentum=0.1, affine=True, track_running_stats=True)\n",
            "      (relu): ReLU(inplace=True)\n",
            "      (conv2): Conv2d(128, 128, kernel_size=(3, 3), stride=(1, 1), padding=(1, 1), bias=False)\n",
            "      (bn2): BatchNorm2d(128, eps=1e-05, momentum=0.1, affine=True, track_running_stats=True)\n",
            "    )\n",
            "  )\n",
            "  (layer3): Sequential(\n",
            "    (0): BasicBlock(\n",
            "      (conv1): Conv2d(128, 256, kernel_size=(3, 3), stride=(2, 2), padding=(1, 1), bias=False)\n",
            "      (bn1): BatchNorm2d(256, eps=1e-05, momentum=0.1, affine=True, track_running_stats=True)\n",
            "      (relu): ReLU(inplace=True)\n",
            "      (conv2): Conv2d(256, 256, kernel_size=(3, 3), stride=(1, 1), padding=(1, 1), bias=False)\n",
            "      (bn2): BatchNorm2d(256, eps=1e-05, momentum=0.1, affine=True, track_running_stats=True)\n",
            "      (downsample): Sequential(\n",
            "        (0): Conv2d(128, 256, kernel_size=(1, 1), stride=(2, 2), bias=False)\n",
            "        (1): BatchNorm2d(256, eps=1e-05, momentum=0.1, affine=True, track_running_stats=True)\n",
            "      )\n",
            "    )\n",
            "    (1): BasicBlock(\n",
            "      (conv1): Conv2d(256, 256, kernel_size=(3, 3), stride=(1, 1), padding=(1, 1), bias=False)\n",
            "      (bn1): BatchNorm2d(256, eps=1e-05, momentum=0.1, affine=True, track_running_stats=True)\n",
            "      (relu): ReLU(inplace=True)\n",
            "      (conv2): Conv2d(256, 256, kernel_size=(3, 3), stride=(1, 1), padding=(1, 1), bias=False)\n",
            "      (bn2): BatchNorm2d(256, eps=1e-05, momentum=0.1, affine=True, track_running_stats=True)\n",
            "    )\n",
            "  )\n",
            "  (layer4): Sequential(\n",
            "    (0): BasicBlock(\n",
            "      (conv1): Conv2d(256, 512, kernel_size=(3, 3), stride=(2, 2), padding=(1, 1), bias=False)\n",
            "      (bn1): BatchNorm2d(512, eps=1e-05, momentum=0.1, affine=True, track_running_stats=True)\n",
            "      (relu): ReLU(inplace=True)\n",
            "      (conv2): Conv2d(512, 512, kernel_size=(3, 3), stride=(1, 1), padding=(1, 1), bias=False)\n",
            "      (bn2): BatchNorm2d(512, eps=1e-05, momentum=0.1, affine=True, track_running_stats=True)\n",
            "      (downsample): Sequential(\n",
            "        (0): Conv2d(256, 512, kernel_size=(1, 1), stride=(2, 2), bias=False)\n",
            "        (1): BatchNorm2d(512, eps=1e-05, momentum=0.1, affine=True, track_running_stats=True)\n",
            "      )\n",
            "    )\n",
            "    (1): BasicBlock(\n",
            "      (conv1): Conv2d(512, 512, kernel_size=(3, 3), stride=(1, 1), padding=(1, 1), bias=False)\n",
            "      (bn1): BatchNorm2d(512, eps=1e-05, momentum=0.1, affine=True, track_running_stats=True)\n",
            "      (relu): ReLU(inplace=True)\n",
            "      (conv2): Conv2d(512, 512, kernel_size=(3, 3), stride=(1, 1), padding=(1, 1), bias=False)\n",
            "      (bn2): BatchNorm2d(512, eps=1e-05, momentum=0.1, affine=True, track_running_stats=True)\n",
            "    )\n",
            "  )\n",
            "  (avgpool): AdaptiveAvgPool2d(output_size=(1, 1))\n",
            "  (fc): Linear(in_features=512, out_features=1000, bias=True)\n",
            ")\n"
          ]
        }
      ]
    },
    {
      "cell_type": "code",
      "metadata": {
        "scrolled": true,
        "colab": {
          "base_uri": "https://localhost:8080/"
        },
        "id": "Ku-v9SCf2csl",
        "outputId": "67039370-4163-46df-90ac-7322e68494cb"
      },
      "source": [
        "# Counting number of trainable parameters\n",
        "totalParams = 0\n",
        "for name,params in net1.named_parameters():\n",
        "    print(name,'-->',params.size())\n",
        "    totalParams += np.sum(np.prod(params.size()))\n",
        "print('Total number of parameters: '+str(totalParams))"
      ],
      "execution_count": 5,
      "outputs": [
        {
          "output_type": "stream",
          "name": "stdout",
          "text": [
            "conv1.weight --> torch.Size([64, 3, 7, 7])\n",
            "bn1.weight --> torch.Size([64])\n",
            "bn1.bias --> torch.Size([64])\n",
            "layer1.0.conv1.weight --> torch.Size([64, 64, 3, 3])\n",
            "layer1.0.bn1.weight --> torch.Size([64])\n",
            "layer1.0.bn1.bias --> torch.Size([64])\n",
            "layer1.0.conv2.weight --> torch.Size([64, 64, 3, 3])\n",
            "layer1.0.bn2.weight --> torch.Size([64])\n",
            "layer1.0.bn2.bias --> torch.Size([64])\n",
            "layer1.1.conv1.weight --> torch.Size([64, 64, 3, 3])\n",
            "layer1.1.bn1.weight --> torch.Size([64])\n",
            "layer1.1.bn1.bias --> torch.Size([64])\n",
            "layer1.1.conv2.weight --> torch.Size([64, 64, 3, 3])\n",
            "layer1.1.bn2.weight --> torch.Size([64])\n",
            "layer1.1.bn2.bias --> torch.Size([64])\n",
            "layer2.0.conv1.weight --> torch.Size([128, 64, 3, 3])\n",
            "layer2.0.bn1.weight --> torch.Size([128])\n",
            "layer2.0.bn1.bias --> torch.Size([128])\n",
            "layer2.0.conv2.weight --> torch.Size([128, 128, 3, 3])\n",
            "layer2.0.bn2.weight --> torch.Size([128])\n",
            "layer2.0.bn2.bias --> torch.Size([128])\n",
            "layer2.0.downsample.0.weight --> torch.Size([128, 64, 1, 1])\n",
            "layer2.0.downsample.1.weight --> torch.Size([128])\n",
            "layer2.0.downsample.1.bias --> torch.Size([128])\n",
            "layer2.1.conv1.weight --> torch.Size([128, 128, 3, 3])\n",
            "layer2.1.bn1.weight --> torch.Size([128])\n",
            "layer2.1.bn1.bias --> torch.Size([128])\n",
            "layer2.1.conv2.weight --> torch.Size([128, 128, 3, 3])\n",
            "layer2.1.bn2.weight --> torch.Size([128])\n",
            "layer2.1.bn2.bias --> torch.Size([128])\n",
            "layer3.0.conv1.weight --> torch.Size([256, 128, 3, 3])\n",
            "layer3.0.bn1.weight --> torch.Size([256])\n",
            "layer3.0.bn1.bias --> torch.Size([256])\n",
            "layer3.0.conv2.weight --> torch.Size([256, 256, 3, 3])\n",
            "layer3.0.bn2.weight --> torch.Size([256])\n",
            "layer3.0.bn2.bias --> torch.Size([256])\n",
            "layer3.0.downsample.0.weight --> torch.Size([256, 128, 1, 1])\n",
            "layer3.0.downsample.1.weight --> torch.Size([256])\n",
            "layer3.0.downsample.1.bias --> torch.Size([256])\n",
            "layer3.1.conv1.weight --> torch.Size([256, 256, 3, 3])\n",
            "layer3.1.bn1.weight --> torch.Size([256])\n",
            "layer3.1.bn1.bias --> torch.Size([256])\n",
            "layer3.1.conv2.weight --> torch.Size([256, 256, 3, 3])\n",
            "layer3.1.bn2.weight --> torch.Size([256])\n",
            "layer3.1.bn2.bias --> torch.Size([256])\n",
            "layer4.0.conv1.weight --> torch.Size([512, 256, 3, 3])\n",
            "layer4.0.bn1.weight --> torch.Size([512])\n",
            "layer4.0.bn1.bias --> torch.Size([512])\n",
            "layer4.0.conv2.weight --> torch.Size([512, 512, 3, 3])\n",
            "layer4.0.bn2.weight --> torch.Size([512])\n",
            "layer4.0.bn2.bias --> torch.Size([512])\n",
            "layer4.0.downsample.0.weight --> torch.Size([512, 256, 1, 1])\n",
            "layer4.0.downsample.1.weight --> torch.Size([512])\n",
            "layer4.0.downsample.1.bias --> torch.Size([512])\n",
            "layer4.1.conv1.weight --> torch.Size([512, 512, 3, 3])\n",
            "layer4.1.bn1.weight --> torch.Size([512])\n",
            "layer4.1.bn1.bias --> torch.Size([512])\n",
            "layer4.1.conv2.weight --> torch.Size([512, 512, 3, 3])\n",
            "layer4.1.bn2.weight --> torch.Size([512])\n",
            "layer4.1.bn2.bias --> torch.Size([512])\n",
            "fc.weight --> torch.Size([1000, 512])\n",
            "fc.bias --> torch.Size([1000])\n",
            "Total number of parameters: 11689512\n"
          ]
        }
      ]
    },
    {
      "cell_type": "code",
      "metadata": {
        "id": "JAquAXWJ2csl"
      },
      "source": [
        "# Modifying the last fully-connected layer for 10 classes\n",
        "net1.fc = nn.Linear(512,10)\n",
        "net2.fc = nn.Linear(512,10)\n",
        "net3.fc = nn.Linear(512,10)"
      ],
      "execution_count": 6,
      "outputs": []
    },
    {
      "cell_type": "code",
      "metadata": {
        "id": "wlzXI0Ze2csm"
      },
      "source": [
        "# Copying initial weights for visualization\n",
        "# Model 1\n",
        "init_weightConv1_1 = copy.deepcopy(net1.conv1.weight.data) # 1st conv layer\n",
        "init_weightConv2_1 = copy.deepcopy(net1.layer1[0].conv1.weight.data) # 2nd conv layer\n",
        "# Model 2\n",
        "init_weightConv1_2 = copy.deepcopy(net2.conv1.weight.data) # 1st conv layer\n",
        "init_weightConv2_2 = copy.deepcopy(net2.layer1[0].conv1.weight.data) # 2nd conv layer\n",
        "# Model 3\n",
        "init_weightConv1_3 = copy.deepcopy(net3.conv1.weight.data) # 1st conv layer\n",
        "init_weightConv2_3 = copy.deepcopy(net3.layer1[0].conv1.weight.data) # 2nd conv layer"
      ],
      "execution_count": 7,
      "outputs": []
    },
    {
      "cell_type": "code",
      "metadata": {
        "colab": {
          "base_uri": "https://localhost:8080/"
        },
        "id": "wZt449Gg2csm",
        "outputId": "b183704d-8c1a-4d24-cf97-f52b5d715f0e"
      },
      "source": [
        "# Check availability of GPU\n",
        "\n",
        "use_gpu = torch.cuda.is_available()\n",
        "# use_gpu = False # Uncomment in case of GPU memory error\n",
        "if use_gpu:\n",
        "    print('GPU is available!')\n",
        "    device = \"cuda\"\n",
        "else:\n",
        "    print('GPU is not available!')\n",
        "    device = \"cpu\"\n",
        "    \n",
        "net1 = net1.to(device)\n",
        "net2 = net2.to(device)\n",
        "net3 = net3.to(device)"
      ],
      "execution_count": 8,
      "outputs": [
        {
          "output_type": "stream",
          "name": "stdout",
          "text": [
            "GPU is available!\n"
          ]
        }
      ]
    },
    {
      "cell_type": "markdown",
      "metadata": {
        "id": "gznN4S2e2csn"
      },
      "source": [
        "## Define loss function and optimizer"
      ]
    },
    {
      "cell_type": "code",
      "metadata": {
        "id": "nrTCBX1E2cso"
      },
      "source": [
        "criterion = nn.NLLLoss() # Negative Log-likelihood\n",
        "optimizer1 = optim.Adam(net1.parameters(), lr=1e-4) # Adam; passing all params\n",
        "optimizer2 = optim.Adam(net2.parameters(), lr=1e-4) # Adam; passing all params\n",
        "optimizer3 = optim.Adam(net3.fc.parameters(), lr=1e-4) # Adam; passing params of only the last fc layer"
      ],
      "execution_count": 9,
      "outputs": []
    },
    {
      "cell_type": "markdown",
      "metadata": {
        "id": "behHYzo02cso"
      },
      "source": [
        "## Train the network"
      ]
    },
    {
      "cell_type": "code",
      "metadata": {
        "scrolled": true,
        "colab": {
          "base_uri": "https://localhost:8080/",
          "height": 666,
          "referenced_widgets": [
            "a3080639a1eb4a88b1f74d515b24c053",
            "5ae7ee5e6624402298a18c0d2e28baba",
            "80622397e409427888066626c4e8a7bc",
            "0b8f0f51fe8f4bd59b78313a0bd14131",
            "cc435ccdeb9446dba3094dafa4fa4a8e",
            "94c537c187404eefb07a58a5e3addb36",
            "2c9b93eb8c9e46de8dbeff596b13610c",
            "3d185c5ac9874ee9b21d923541eba448",
            "8652edf549a04e91b253316848a533b3",
            "2fc3a0c2d1c2494c96c2c49dbf8b66c8",
            "a57566a00d624f619cbdaaad7cbbab3f"
          ]
        },
        "id": "qsY_iB-S2cso",
        "outputId": "80b18c90-d902-41bb-d54a-fd3181ebf453"
      },
      "source": [
        "iterations = 10\n",
        "\n",
        "trainLoss1 = []\n",
        "trainTotalLoss1 = []\n",
        "trainAcc1 = []\n",
        "testLoss1 = []\n",
        "testAcc1 = []\n",
        "\n",
        "trainLoss2 = []\n",
        "trainTotalLoss2 = []\n",
        "trainAcc2 = []\n",
        "testLoss2 = []\n",
        "testAcc2 = []\n",
        "\n",
        "trainLoss3 = []\n",
        "trainTotalLoss3 = []\n",
        "trainAcc3 = []\n",
        "testLoss3 = []\n",
        "testAcc3 = []\n",
        "\n",
        "\n",
        "start = time.time()\n",
        "for epoch in range(iterations):\n",
        "    epochStart = time.time()\n",
        "    # Model 1\n",
        "    runningLoss1 = 0.0   \n",
        "    avgTotalLoss1 = 0.0\n",
        "    running_correct1 = 0\n",
        "    # Model 2\n",
        "    runningLoss2 = 0.0   \n",
        "    avgTotalLoss2 = 0.0\n",
        "    running_correct2 = 0\n",
        "    # Model 3\n",
        "    runningLoss3 = 0.0   \n",
        "    avgTotalLoss3 = 0.0\n",
        "    running_correct3 = 0\n",
        "    \n",
        "    net1.train() # For training   \n",
        "    net2.train() # For training   \n",
        "    net3.train() # For training   \n",
        "    for data in tqdm.tqdm_notebook(trainLoader):\n",
        "        inputs,labels = data\n",
        "        \n",
        "        inputs, labels = inputs.to(device), labels.to(device)  \n",
        "        # Model 1\n",
        "        outputs1 = net1(inputs)\n",
        "        _, predicted1 = torch.max(outputs1.data, 1)\n",
        "        running_correct1 += (predicted1 == labels.data).sum()\n",
        "        # Model 2\n",
        "        outputs2 = net2(inputs)\n",
        "        _, predicted2 = torch.max(outputs2.data, 1)\n",
        "        running_correct2 += (predicted2 == labels.data).sum()\n",
        "        # Model 3\n",
        "        outputs3 = net3(inputs)\n",
        "        _, predicted3 = torch.max(outputs3.data, 1)\n",
        "        running_correct3 += (predicted3 == labels.data).sum()\n",
        "       \n",
        "        # Initialize gradients to zero\n",
        "        optimizer1.zero_grad()               \n",
        "        optimizer2.zero_grad()               \n",
        "        optimizer3.zero_grad()               \n",
        "        \n",
        "        # Compute loss/error\n",
        "        loss1 = criterion(F.log_softmax(outputs1,dim=1), labels)\n",
        "        loss2 = criterion(F.log_softmax(outputs2,dim=1), labels)\n",
        "        loss3 = criterion(F.log_softmax(outputs3,dim=1), labels)\n",
        "        # Backpropagate loss and compute gradients\n",
        "        loss1.backward()\n",
        "        loss2.backward()\n",
        "        loss3.backward()\n",
        "        # Update the network parameters\n",
        "        optimizer1.step()\n",
        "        optimizer2.step()\n",
        "        optimizer3.step()\n",
        "        # Accumulate loss per batch\n",
        "        runningLoss1 += loss1.item()         \n",
        "        runningLoss2 += loss2.item()         \n",
        "        runningLoss3 += loss3.item() \n",
        "    \n",
        "    avgTrainAcc1 = 100*float(running_correct1)/50000.0\n",
        "    avgTrainLoss1 = runningLoss1/(50000.0/BatchSize)    \n",
        "    trainAcc1.append(avgTrainAcc1)\n",
        "    trainLoss1.append(avgTrainLoss1)    \n",
        "    #-------------------------------\n",
        "    avgTrainAcc2 = 100*float(running_correct2)/50000.0\n",
        "    avgTrainLoss2 = runningLoss2/(50000.0/BatchSize)    \n",
        "    trainAcc2.append(avgTrainAcc2)\n",
        "    trainLoss2.append(avgTrainLoss2)    \n",
        "    #-------------------------------\n",
        "    avgTrainAcc3 = 100*float(running_correct3)/50000.0\n",
        "    avgTrainLoss3 = runningLoss3/(50000.0/BatchSize)    \n",
        "    trainAcc3.append(avgTrainAcc3)\n",
        "    trainLoss3.append(avgTrainLoss3)\n",
        "    \n",
        "    # Evaluating performance on test set for each epoch\n",
        "    net1.eval() # For testing [Affects batch-norm and dropout layers (if any)]\n",
        "    net2.eval()\n",
        "    net3.eval()\n",
        "    running_correct1 = 0  \n",
        "    running_correct2 = 0  \n",
        "    running_correct3 = 0  \n",
        "    with torch.no_grad():\n",
        "        for data in testLoader:\n",
        "            inputs,labels = data            \n",
        "            inputs, labels = inputs.to(device), labels.to(device)\n",
        "            # Model 1\n",
        "            outputs1 = net1(inputs)\n",
        "            _, predicted1 = torch.max(outputs1.data, 1)\n",
        "            running_correct1 += (predicted1 == labels.data).sum()\n",
        "            # Model 2\n",
        "            outputs2 = net2(inputs)\n",
        "            _, predicted2 = torch.max(outputs2.data, 1)\n",
        "            running_correct2 += (predicted2 == labels.data).sum()\n",
        "            # Model 3\n",
        "            outputs3 = net3(inputs)\n",
        "            _, predicted3 = torch.max(outputs3.data, 1)\n",
        "            running_correct3 += (predicted3 == labels.data).sum()\n",
        "\n",
        "            loss1 = criterion(F.log_softmax(outputs1,dim=1), labels)\n",
        "            loss2 = criterion(F.log_softmax(outputs2,dim=1), labels)\n",
        "            loss3 = criterion(F.log_softmax(outputs3,dim=1), labels)\n",
        "\n",
        "            runningLoss1 += loss1.item()         \n",
        "            runningLoss2 += loss2.item()         \n",
        "            runningLoss3 += loss3.item() \n",
        "            \n",
        "    avgTestLoss1 = runningLoss1/(10000.0/BatchSize)\n",
        "    avgTestAcc1 = 100*float(running_correct1)/10000.0\n",
        "    testLoss1.append(avgTestLoss1)\n",
        "    testAcc1.append(avgTestAcc1)\n",
        "    #---------------------------\n",
        "    avgTestLoss2 = runningLoss2/(10000.0/BatchSize)\n",
        "    avgTestAcc2 = 100*float(running_correct2)/10000.0\n",
        "    testLoss2.append(avgTestLoss2)\n",
        "    testAcc2.append(avgTestAcc2)\n",
        "    #---------------------------\n",
        "    avgTestLoss3 = runningLoss3/(10000.0/BatchSize)\n",
        "    avgTestAcc3 = 100*float(running_correct3)/10000.0\n",
        "    testLoss3.append(avgTestLoss3)\n",
        "    testAcc3.append(avgTestAcc3)\n",
        "        \n",
        "    \n",
        "    # Plotting training loss vs Epochs\n",
        "    fig1 = plt.figure(1)        \n",
        "    plt.plot(range(epoch+1),trainLoss1,'r-',label='train')  \n",
        "    plt.plot(range(epoch+1),testLoss1,'g-',label='test') \n",
        "    if epoch==0:\n",
        "        plt.legend(loc='upper left')\n",
        "        plt.xlabel('Epochs')\n",
        "        plt.ylabel('Loss of Model 1')   \n",
        "    # Plotting testing accuracy vs Epochs\n",
        "    fig2 = plt.figure(2)        \n",
        "    plt.plot(range(epoch+1),trainAcc1,'r-',label='train')    \n",
        "    plt.plot(range(epoch+1),testAcc1,'g-',label='test')        \n",
        "    if epoch==0:\n",
        "        plt.legend(loc='upper left')\n",
        "        plt.xlabel('Epochs')\n",
        "        plt.ylabel('Accuracy of Model 1')   \n",
        "        \n",
        "    # Plotting training loss vs Epochs\n",
        "    fig3 = plt.figure(3)        \n",
        "    plt.plot(range(epoch+1),trainLoss2,'r-',label='train')  \n",
        "    plt.plot(range(epoch+1),testLoss2,'g-',label='test') \n",
        "    if epoch==0:\n",
        "        plt.legend(loc='upper left')\n",
        "        plt.xlabel('Epochs')\n",
        "        plt.ylabel('Loss of Model 2')   \n",
        "    # Plotting testing accuracy vs Epochs\n",
        "    fig4 = plt.figure(4)        \n",
        "    plt.plot(range(epoch+1),trainAcc2,'r-',label='train')    \n",
        "    plt.plot(range(epoch+1),testAcc2,'g-',label='test')        \n",
        "    if epoch==0:\n",
        "        plt.legend(loc='upper left')\n",
        "        plt.xlabel('Epochs')\n",
        "        plt.ylabel('Accuracy of Model 2')\n",
        "        \n",
        "    # Plotting training loss vs Epochs\n",
        "    fig5 = plt.figure(5)        \n",
        "    plt.plot(range(epoch+1),trainLoss3,'r-',label='train')  \n",
        "    plt.plot(range(epoch+1),testLoss3,'g-',label='test') \n",
        "    if epoch==0:\n",
        "        plt.legend(loc='upper left')\n",
        "        plt.xlabel('Epochs')\n",
        "        plt.ylabel('Loss of Model 1')   \n",
        "    # Plotting testing accuracy vs Epochs\n",
        "    fig6 = plt.figure(6)        \n",
        "    plt.plot(range(epoch+1),trainAcc3,'r-',label='train')    \n",
        "    plt.plot(range(epoch+1),testAcc3,'g-',label='test')        \n",
        "    if epoch==0:\n",
        "        plt.legend(loc='upper left')\n",
        "        plt.xlabel('Epochs')\n",
        "        plt.ylabel('Accuracy of Model 1')\n",
        "        \n",
        "    epochEnd = time.time()-epochStart\n",
        "    print('Iteration: {:.0f} /{:.0f} Model 1  ;  Training Loss: {:.6f} ; Testing Acc: {:.3f}'\\\n",
        "          .format(epoch + 1,iterations,avgTrainLoss1,avgTestAcc1))\n",
        "    print('Iteration: {:.0f} /{:.0f} Model 2  ;  Training Loss: {:.6f} ; Testing Acc: {:.3f} '\\\n",
        "          .format(epoch + 1,iterations,avgTrainLoss2,avgTestAcc2))\n",
        "    print('Iteration: {:.0f} /{:.0f} Model 3  ;  Training Loss: {:.6f} ; Testing Acc: {:.3f} '\\\n",
        "      .format(epoch + 1,iterations,avgTrainLoss3,avgTestAcc3))\n",
        "    print('Time consumed: {:.0f}m {:.0f}s'.format(epochEnd//60,epochEnd%60))\n",
        "end = time.time()-start\n",
        "print('Training completed in {:.0f}m {:.0f}s'.format(end//60,end%60))"
      ],
      "execution_count": null,
      "outputs": [
        {
          "output_type": "stream",
          "name": "stderr",
          "text": [
            "/usr/local/lib/python3.7/dist-packages/ipykernel_launcher.py:41: TqdmDeprecationWarning: This function will be removed in tqdm==5.0.0\n",
            "Please use `tqdm.notebook.tqdm` instead of `tqdm.tqdm_notebook`\n"
          ]
        },
        {
          "output_type": "display_data",
          "data": {
            "application/vnd.jupyter.widget-view+json": {
              "model_id": "a3080639a1eb4a88b1f74d515b24c053",
              "version_minor": 0,
              "version_major": 2
            },
            "text/plain": [
              "  0%|          | 0/1563 [00:00<?, ?it/s]"
            ]
          },
          "metadata": {}
        },
        {
          "output_type": "stream",
          "name": "stderr",
          "text": [
            "/usr/local/lib/python3.7/dist-packages/torch/utils/data/dataloader.py:481: UserWarning: This DataLoader will create 4 worker processes in total. Our suggested max number of worker in current system is 2, which is smaller than what this DataLoader is going to create. Please be aware that excessive worker creation might get DataLoader running slow or even freeze, lower the worker number to avoid potential slowness/freeze if necessary.\n",
            "  cpuset_checked))\n",
            "/usr/local/lib/python3.7/dist-packages/torch/nn/functional.py:718: UserWarning: Named tensors and all their associated APIs are an experimental feature and subject to change. Please do not use them for anything important until they are released as stable. (Triggered internally at  /pytorch/c10/core/TensorImpl.h:1156.)\n",
            "  return torch.max_pool2d(input, kernel_size, stride, padding, dilation, ceil_mode)\n"
          ]
        },
        {
          "output_type": "stream",
          "name": "stdout",
          "text": [
            "Iteration: 1 /10 Model 1  ;  Training Loss: 1.242137 ; Testing Acc: 60.820\n",
            "Iteration: 1 /10 Model 2  ;  Training Loss: 0.334131 ; Testing Acc: 92.890 \n",
            "Iteration: 1 /10 Model 3  ;  Training Loss: 1.384695 ; Testing Acc: 73.700 \n",
            "Time consumed: 19m 3s\n"
          ]
        },
        {
          "output_type": "display_data",
          "data": {
            "application/vnd.jupyter.widget-view+json": {
              "model_id": "b16b4f5d3b3b446ea9c8e1068bdb0f1b",
              "version_minor": 0,
              "version_major": 2
            },
            "text/plain": [
              "  0%|          | 0/1563 [00:00<?, ?it/s]"
            ]
          },
          "metadata": {}
        },
        {
          "output_type": "stream",
          "name": "stdout",
          "text": [
            "Iteration: 2 /10 Model 1  ;  Training Loss: 0.783906 ; Testing Acc: 74.790\n",
            "Iteration: 2 /10 Model 2  ;  Training Loss: 0.131605 ; Testing Acc: 93.920 \n",
            "Iteration: 2 /10 Model 3  ;  Training Loss: 0.869030 ; Testing Acc: 76.540 \n",
            "Time consumed: 19m 1s\n"
          ]
        },
        {
          "output_type": "display_data",
          "data": {
            "application/vnd.jupyter.widget-view+json": {
              "model_id": "46c62b5b5ddc4d7bbd54218d7eed1ede",
              "version_minor": 0,
              "version_major": 2
            },
            "text/plain": [
              "  0%|          | 0/1563 [00:00<?, ?it/s]"
            ]
          },
          "metadata": {}
        },
        {
          "output_type": "stream",
          "name": "stdout",
          "text": [
            "Iteration: 3 /10 Model 1  ;  Training Loss: 0.576514 ; Testing Acc: 77.470\n",
            "Iteration: 3 /10 Model 2  ;  Training Loss: 0.075204 ; Testing Acc: 93.790 \n",
            "Iteration: 3 /10 Model 3  ;  Training Loss: 0.757252 ; Testing Acc: 77.090 \n",
            "Time consumed: 18m 58s\n"
          ]
        },
        {
          "output_type": "display_data",
          "data": {
            "application/vnd.jupyter.widget-view+json": {
              "model_id": "9364ab44df3943a48b008d8c616d98b4",
              "version_minor": 0,
              "version_major": 2
            },
            "text/plain": [
              "  0%|          | 0/1563 [00:00<?, ?it/s]"
            ]
          },
          "metadata": {}
        },
        {
          "output_type": "stream",
          "name": "stdout",
          "text": [
            "Iteration: 4 /10 Model 1  ;  Training Loss: 0.437424 ; Testing Acc: 78.680\n",
            "Iteration: 4 /10 Model 2  ;  Training Loss: 0.058039 ; Testing Acc: 94.040 \n",
            "Iteration: 4 /10 Model 3  ;  Training Loss: 0.710847 ; Testing Acc: 78.560 \n",
            "Time consumed: 18m 59s\n"
          ]
        },
        {
          "output_type": "display_data",
          "data": {
            "application/vnd.jupyter.widget-view+json": {
              "model_id": "9b99db46709948bf92aea69d01abe0b5",
              "version_minor": 0,
              "version_major": 2
            },
            "text/plain": [
              "  0%|          | 0/1563 [00:00<?, ?it/s]"
            ]
          },
          "metadata": {}
        },
        {
          "output_type": "stream",
          "name": "stdout",
          "text": [
            "Iteration: 5 /10 Model 1  ;  Training Loss: 0.310333 ; Testing Acc: 78.890\n",
            "Iteration: 5 /10 Model 2  ;  Training Loss: 0.046162 ; Testing Acc: 93.250 \n",
            "Iteration: 5 /10 Model 3  ;  Training Loss: 0.680050 ; Testing Acc: 79.240 \n",
            "Time consumed: 18m 56s\n"
          ]
        },
        {
          "output_type": "display_data",
          "data": {
            "application/vnd.jupyter.widget-view+json": {
              "model_id": "dbeeb6332e4045f8bdcf84df5a898c7d",
              "version_minor": 0,
              "version_major": 2
            },
            "text/plain": [
              "  0%|          | 0/1563 [00:00<?, ?it/s]"
            ]
          },
          "metadata": {}
        }
      ]
    },
    {
      "cell_type": "code",
      "metadata": {
        "scrolled": false,
        "id": "sCwqN3462csp"
      },
      "source": [
        "# Plotting training loss vs Epochs\n",
        "fig7 = plt.figure(7)        \n",
        "plt.plot(range(epoch+1),trainLoss1,'r-',label='model1')  \n",
        "plt.plot(range(epoch+1),trainLoss2,'g-',label='model2') \n",
        "plt.plot(range(epoch+1),trainLoss3,'b-',label='model3') \n",
        "plt.legend(loc='upper left')\n",
        "plt.xlabel('Epochs')\n",
        "plt.ylabel('Train Loss')  \n",
        "\n",
        "fig8 = plt.figure(8)        \n",
        "plt.plot(range(epoch+1),testLoss1,'r-',label='model1')  \n",
        "plt.plot(range(epoch+1),testLoss2,'g-',label='model2') \n",
        "plt.plot(range(epoch+1),testLoss3,'b-',label='model3') \n",
        "plt.legend(loc='upper left')\n",
        "plt.xlabel('Epochs')\n",
        "plt.ylabel('Test Loss') \n",
        "\n",
        "fig9 = plt.figure(9)        \n",
        "plt.plot(range(epoch+1),testAcc1,'r-',label='model1')  \n",
        "plt.plot(range(epoch+1),testAcc2,'g-',label='model2') \n",
        "plt.plot(range(epoch+1),testAcc3,'b-',label='model3') \n",
        "plt.legend(loc='upper left')\n",
        "plt.xlabel('Epochs')\n",
        "plt.ylabel('Test Accuracy') "
      ],
      "execution_count": null,
      "outputs": []
    },
    {
      "cell_type": "code",
      "metadata": {
        "id": "Ze-4-WK72csq"
      },
      "source": [
        "# Copying trained weights for visualization\n",
        "trained_weightConv1_1 = copy.deepcopy(net1.conv1.weight.data)\n",
        "trained_weightConv2_1 = copy.deepcopy(net1.layer1[0].conv1.weight.data)\n",
        "\n",
        "trained_weightConv1_2 = copy.deepcopy(net2.conv1.weight.data)\n",
        "trained_weightConv2_2 = copy.deepcopy(net2.layer1[0].conv1.weight.data)\n",
        "\n",
        "trained_weightConv1_3 = copy.deepcopy(net3.conv1.weight.data)\n",
        "trained_weightConv2_3 = copy.deepcopy(net3.layer1[0].conv1.weight.data)\n",
        "if use_gpu:\n",
        "    trained_weightConv1_1 = trained_weightConv1_1.cpu()\n",
        "    trained_weightConv2_1 = trained_weightConv2_1.cpu()\n",
        "    \n",
        "    trained_weightConv1_2 = trained_weightConv1_2.cpu()\n",
        "    trained_weightConv2_2 = trained_weightConv2_2.cpu()\n",
        "    \n",
        "    trained_weightConv1_3 = trained_weightConv1_3.cpu()\n",
        "    trained_weightConv2_3 = trained_weightConv2_3.cpu()"
      ],
      "execution_count": null,
      "outputs": []
    },
    {
      "cell_type": "markdown",
      "metadata": {
        "collapsed": true,
        "id": "1MWgl-Ai2csq"
      },
      "source": [
        "## Visualization of weights"
      ]
    },
    {
      "cell_type": "code",
      "metadata": {
        "id": "nxGlFCol2csq"
      },
      "source": [
        "# functions to show an image\n",
        "def imshow(img, strlabel):\n",
        "    npimg = img.numpy()\n",
        "    npimg = np.abs(npimg)\n",
        "    fig_size = plt.rcParams[\"figure.figsize\"]\n",
        "    fig_size[0] = 10\n",
        "    fig_size[1] = 10\n",
        "    plt.rcParams[\"figure.figsize\"] = fig_size\n",
        "    plt.figure()\n",
        "    plt.title(strlabel)\n",
        "    plt.imshow(np.transpose(npimg, (1, 2, 0)))"
      ],
      "execution_count": null,
      "outputs": []
    },
    {
      "cell_type": "code",
      "metadata": {
        "id": "FgG9iLWh2csr"
      },
      "source": [
        "# Visualizing weights of 1st convolutional layer of Model 1\n",
        "imshow(torchvision.utils.make_grid(init_weightConv1_1,nrow=8,normalize=True),'Initial weights: conv1')\n",
        "imshow(torchvision.utils.make_grid(trained_weightConv1_1,nrow=8,normalize=True),'Trained weights: conv1')\n",
        "imshow(torchvision.utils.make_grid(init_weightConv1_1-trained_weightConv1_1,nrow=8,normalize=True),'Difference of weights: conv1')"
      ],
      "execution_count": null,
      "outputs": []
    },
    {
      "cell_type": "code",
      "metadata": {
        "id": "dAiw3cxj2csr"
      },
      "source": [
        "# Visualizing weights of 2nd convolutional layer of Model 1\n",
        "imshow(torchvision.utils.make_grid(init_weightConv2_1[0].unsqueeze(1),nrow=8,normalize=True),'Initial weights: conv2')\n",
        "imshow(torchvision.utils.make_grid(trained_weightConv2_1[0].unsqueeze(1),nrow=8,normalize=True),'Trained weights: conv2')\n",
        "imshow(torchvision.utils.make_grid(init_weightConv2_1[0].unsqueeze(1)-trained_weightConv2_1[0].unsqueeze(1),nrow=8,normalize=True),'Difference of weights: conv2')"
      ],
      "execution_count": null,
      "outputs": []
    },
    {
      "cell_type": "code",
      "metadata": {
        "id": "Px5FsKJj2css"
      },
      "source": [
        "# Visualizing weights of 1st convolutional layer of Model 2\n",
        "imshow(torchvision.utils.make_grid(init_weightConv1_2,nrow=8,normalize=True),'Initial weights: conv1')\n",
        "imshow(torchvision.utils.make_grid(trained_weightConv1_2,nrow=8,normalize=True),'Trained weights: conv1')\n",
        "imshow(torchvision.utils.make_grid(init_weightConv1_2-trained_weightConv1_2,nrow=8,normalize=True),'Difference of weights: conv1')"
      ],
      "execution_count": null,
      "outputs": []
    },
    {
      "cell_type": "code",
      "metadata": {
        "id": "z8xZ19LS2css"
      },
      "source": [
        "# Visualizing weights of 2nd convolutional layer of Model 2\n",
        "imshow(torchvision.utils.make_grid(init_weightConv2_2[0].unsqueeze(1),nrow=8,normalize=True),'Initial weights: conv2')\n",
        "imshow(torchvision.utils.make_grid(trained_weightConv2_2[0].unsqueeze(1),nrow=8,normalize=True),'Trained weights: conv2')\n",
        "imshow(torchvision.utils.make_grid(init_weightConv2_2[0].unsqueeze(1)-trained_weightConv2_2[0].unsqueeze(1),nrow=8,normalize=True),'Difference of weights: conv2')"
      ],
      "execution_count": null,
      "outputs": []
    },
    {
      "cell_type": "code",
      "metadata": {
        "id": "Ui_6RnFc2css"
      },
      "source": [
        "# Visualizing weights of 1st convolutional layer of Model 3\n",
        "imshow(torchvision.utils.make_grid(init_weightConv1_3,nrow=8,normalize=True),'Initial weights: conv1')\n",
        "imshow(torchvision.utils.make_grid(trained_weightConv1_3,nrow=8,normalize=True),'Trained weights: conv1')\n",
        "imshow(torchvision.utils.make_grid(init_weightConv1_3-trained_weightConv1_3,nrow=8,normalize=True),'Difference of weights: conv1')"
      ],
      "execution_count": null,
      "outputs": []
    },
    {
      "cell_type": "code",
      "metadata": {
        "id": "ypwoXahW2css"
      },
      "source": [
        "# Visualizing weights of 2nd convolutional layer of Model 3\n",
        "imshow(torchvision.utils.make_grid(init_weightConv2_3[0].unsqueeze(1),nrow=8,normalize=True),'Initial weights: conv2')\n",
        "imshow(torchvision.utils.make_grid(trained_weightConv2_3[0].unsqueeze(1),nrow=8,normalize=True),'Trained weights: conv2')\n",
        "imshow(torchvision.utils.make_grid(init_weightConv2_3[0].unsqueeze(1)-trained_weightConv2_3[0].unsqueeze(1),nrow=8,normalize=True),'Difference of weights: conv2')"
      ],
      "execution_count": null,
      "outputs": []
    },
    {
      "cell_type": "code",
      "metadata": {
        "id": "i0AuogfY2cst"
      },
      "source": [
        ""
      ],
      "execution_count": null,
      "outputs": []
    }
  ]
}